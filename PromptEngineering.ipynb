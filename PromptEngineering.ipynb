{
 "cells": [
  {
   "attachments": {},
   "cell_type": "markdown",
   "metadata": {},
   "source": [
    "## Combining 2 prompts dependent on each other"
   ]
  },
  {
   "cell_type": "code",
   "execution_count": 13,
   "metadata": {},
   "outputs": [],
   "source": [
    "import os\n",
    "from langchain import PromptTemplate\n",
    "from langchain_openai import AzureChatOpenAI\n",
    "from langchain.llms import OpenAI\n",
    "from langchain.chains import LLMChain\n",
    "from langchain.chains import SimpleSequentialChain"
   ]
  },
  {
   "cell_type": "code",
   "execution_count": 14,
   "metadata": {},
   "outputs": [],
   "source": [
    "os.environ[\"OPENAI_API_KEY\"] = \"\""
   ]
  },
  {
   "cell_type": "code",
   "execution_count": 15,
   "metadata": {},
   "outputs": [],
   "source": [
    "# Using Azure Open AI key\n",
    "\n",
    "OPENAI_API_VERSION = \"2023-05-15\"\n",
    "AZURE_OPENAI_ENDPOINT = \"\"\n",
    "AZURE_OPENAI_API_KEY = \"\"\n",
    "\n",
    "os.environ[\"OPENAI_API_TYPE\"] = \"azure\"\n",
    "os.environ[\"OPENAI_API_VERSION\"] = OPENAI_API_VERSION\n",
    "os.environ[\"AZURE_OPENAI_ENDPOINT\"] = AZURE_OPENAI_ENDPOINT\n",
    "os.environ[\"AZURE_OPENAI_API_KEY\"] = AZURE_OPENAI_API_KEY\n",
    "\n",
    "model_response_generation = 'Test'\n",
    "llm = AzureChatOpenAI(openai_api_version=\"2023-05-15\", azure_deployment=model_response_generation, )"
   ]
  },
  {
   "cell_type": "code",
   "execution_count": 46,
   "metadata": {},
   "outputs": [
    {
     "name": "stdout",
     "output_type": "stream",
     "text": [
      "What is the capital of India\n",
      "Suggest me some famous places to visit in Delhi\n"
     ]
    }
   ],
   "source": [
    "capital_template = PromptTemplate(input_variables=['country'], template=\"What is the capital of {country}\")\n",
    "famous_template = PromptTemplate(input_variables=['capital'], template=\"Suggest me some famous places to visit in {capital}\")\n",
    "print(capital_template.format(country = 'India'))\n",
    "print(famous_template.format(capital = 'Delhi'))"
   ]
  },
  {
   "cell_type": "code",
   "execution_count": 47,
   "metadata": {},
   "outputs": [],
   "source": [
    "capital_chain = LLMChain(llm=llm, prompt=capital_template)\n",
    "famous_chain = LLMChain(llm=llm, prompt=famous_template)"
   ]
  },
  {
   "cell_type": "code",
   "execution_count": 45,
   "metadata": {},
   "outputs": [
    {
     "data": {
      "text/plain": [
       "\"1. India Gate: This is an iconic monument dedicated to the Indian soldiers who lost their lives in World War I.\\n\\n2. Red Fort: This is a historic fort in the city of Delhi, which served as the main residence of the Mughal emperors.\\n\\n3. Qutub Minar: This is the tallest brick minaret in the world, and an important example of Indo-Islamic Architecture.\\n\\n4. Lotus Temple: Known for its flowerlike shape, it is a prominent attraction in the city. It is a Bahá'í House of Worship.\\n\\n5. Humayun's Tomb: This is the tomb of the Mughal Emperor Humayun. It was the first garden-tomb on the Indian subcontinent.\\n\\n6. Akshardham Temple: This is a Hindu temple, and a spiritual-cultural campus in Delhi. \\n\\n7. Jama Masjid: This is one of the largest mosques in India.\\n\\n8. Rashtrapati Bhawan: This is the official home of the president of India.\\n\\n9. Raj Ghat: This is a memorial dedicated to Mahatma Gandhi.\\n\\n10. National Museum: This is one of the largest museums in India.\\n\\n11. The National Gallery of Modern Art: This gallery houses works by prominent Indian artists.\\n\\n12. Chandni Chowk: This is one of the oldest and busiest markets in Old Delhi.\\n  \\n13. Jantar Mantar: An outdoor astronomical observatory from the Mughal period.\\n\\n14. Lodi Gardens: A city park spread over 90 acres, containing architectural works from the 15th century.\\n\\n15. Gurudwara Bangla Sahib: One of the most prominent Sikh gurdwara, or Sikh house of worship.\""
      ]
     },
     "execution_count": 45,
     "metadata": {},
     "output_type": "execute_result"
    }
   ],
   "source": [
    "chain = SimpleSequentialChain(chains = [capital_chain, famous_chain])\n",
    "chain.run(\"India\")"
   ]
  },
  {
   "cell_type": "markdown",
   "metadata": {},
   "source": [
    "# Sequential Chain"
   ]
  },
  {
   "cell_type": "code",
   "execution_count": 4,
   "metadata": {},
   "outputs": [],
   "source": [
    "from langchain.chains import SequentialChain"
   ]
  },
  {
   "cell_type": "code",
   "execution_count": 5,
   "metadata": {},
   "outputs": [],
   "source": [
    "capital_template = PromptTemplate(input_variables=['country'], template=\"What is the capital of {country}\")\n",
    "capital_chain = LLMChain(llm=llm, prompt=capital_template, output_key=\"capital\")\n",
    "\n",
    "famous_template = famous_template = PromptTemplate(input_variables=['capital'], template=\"Suggest me some famous places to visit in {capital}\")\n",
    "famous_chain = LLMChain(llm=llm, prompt=famous_template, output_key=\"places\")"
   ]
  },
  {
   "cell_type": "code",
   "execution_count": 6,
   "metadata": {},
   "outputs": [
    {
     "name": "stderr",
     "output_type": "stream",
     "text": [
      "/media/anang/New Volume/home/virtual_envs/llm_venv/lib/python3.10/site-packages/langchain_core/_api/deprecation.py:117: LangChainDeprecationWarning: The function `__call__` was deprecated in LangChain 0.1.0 and will be removed in 0.2.0. Use invoke instead.\n",
      "  warn_deprecated(\n"
     ]
    },
    {
     "data": {
      "text/plain": [
       "{'country': 'India',\n",
       " 'capital': 'The capital of India is New Delhi.',\n",
       " 'places': \"1. India Gate: It's a war memorial located astride the Rajpath, on the eastern edge of the ceremonial axis of New Delhi, formerly called Kingsway.\\n\\n2. Humayun's Tomb: This is the tomb of the Mughal Emperor Humayun. The tomb was commissioned by Humayun's first wife and chief consort, Empress Bega Begum, in 1569-70, and designed by Mirak Mirza Ghiyas and his son, Sayyid Muhammad.\\n\\n3. Lotus Temple: Notable for its flowerlike shape, it has become a prominent attraction in the city. The Lotus Temple has won numerous architectural awards and been featured in hundreds of newspaper and magazine articles.\\n\\n4. Qutub Minar: A UNESCO World Heritage Site, this 73-meter tall tower was built by Qutub-ud-Din Aibak in 1193. \\n\\n5. Akshardham Temple: Also known as the Swaminarayan Akshardham, this spiritual-cultural campus in New Delhi is an epitome of Indian culture, spirituality, and architecture. \\n\\n6. Red Fort: Constructed in 1639 by the fifth Mughal Emperor Shah Jahan, the Red Fort is a historical fort in New Delhi. The fort was designated a UNESCO World Heritage site in 2007.\\n\\n7. Jama Masjid: One of the largest mosques in India, it was built by Mughal emperor Shah Jahan between 1644 and 1656.\\n\\n8. Raj Ghat: The memorial dedicated to Mahatma Gandhi in Delhi, India.\\n\\n9. Rashtrapati Bhavan: The official residence of the President of India, it is a splendid architectural structure worth visiting.\\n\\n10. National Museum: The largest museum in India, it houses a vast range of articles ranging from pre-historic era to modern works of art. \\n\\n11. Gurudwara Bangla Sahib: One of the most prominent Sikh gurdwara, or Sikh house of worship in Delhi, India and known for its association with the eighth Sikh Guru, Guru Har Krishan. \\n\\n12. Jantar Mantar: It consists of 13 architectural astronomy instruments, built by Maharaja Jai Singh II of Jaipur, from 1724 onwards. \\n\\n13. Lodhi Garden: A city park situated in New Delhi, it contains, Mohammed Shah's Tomb, Tomb of Sikandar Lodhi, Shisha Gumbad and Bara Gumbad, architectural works of the 15th century by Lodhis.\"}"
      ]
     },
     "execution_count": 6,
     "metadata": {},
     "output_type": "execute_result"
    }
   ],
   "source": [
    "chain = SequentialChain(chains=[capital_chain, famous_chain], input_variables=[\"country\"], \n",
    "                        output_variables=[\"capital\", \"places\"])\n",
    "chain({\"country\": \"India\"})"
   ]
  },
  {
   "cell_type": "markdown",
   "metadata": {},
   "source": [
    "# Chat Models with ChatOpenAI"
   ]
  },
  {
   "cell_type": "code",
   "execution_count": 3,
   "metadata": {},
   "outputs": [],
   "source": [
    "import os\n",
    "from langchain.chat_models import ChatOpenAI\n",
    "from langchain.schema import HumanMessage, SystemMessage, AIMessage"
   ]
  },
  {
   "cell_type": "code",
   "execution_count": 4,
   "metadata": {},
   "outputs": [],
   "source": [
    "os.environ[\"OPENAI_API_KEY\"] = \"\""
   ]
  },
  {
   "cell_type": "code",
   "execution_count": 5,
   "metadata": {},
   "outputs": [
    {
     "name": "stderr",
     "output_type": "stream",
     "text": [
      "/media/anang/New Volume/home/virtual_envs/llm_venv/lib/python3.10/site-packages/langchain_core/_api/deprecation.py:117: LangChainDeprecationWarning: The class `langchain_community.chat_models.openai.ChatOpenAI` was deprecated in langchain-community 0.0.10 and will be removed in 0.2.0. An updated version of the class exists in the langchain-openai package and should be used instead. To use it run `pip install -U langchain-openai` and import as `from langchain_openai import ChatOpenAI`.\n",
      "  warn_deprecated(\n",
      "WARNING! open_api_key is not default parameter.\n",
      "                    open_api_key was transferred to model_kwargs.\n",
      "                    Please confirm that open_api_key is what you intended.\n"
     ]
    }
   ],
   "source": [
    "chatllm = ChatOpenAI(open_api_key=os.environ[\"OPENAI_API_KEY\"], temperature=0.6, model=\"gpt-3.5-turbo\")"
   ]
  },
  {
   "cell_type": "code",
   "execution_count": null,
   "metadata": {
    "scrolled": true
   },
   "outputs": [],
   "source": [
    "chatllm([\n",
    "    SystemMessage(content= \"You are a comedian AI assistant\"),\n",
    "    HumanMessage(content=\"Please provide some comedy punchlines on AI\")\n",
    "])"
   ]
  },
  {
   "cell_type": "markdown",
   "metadata": {},
   "source": [
    "# Prompt template + LLM + Output Parsers"
   ]
  },
  {
   "cell_type": "code",
   "execution_count": 8,
   "metadata": {},
   "outputs": [],
   "source": [
    "from langchain.chat_models import ChatOpenAI\n",
    "from langchain.prompts.chat import ChatPromptTemplate\n",
    "from langchain.schema import BaseOutputParser"
   ]
  },
  {
   "cell_type": "code",
   "execution_count": 9,
   "metadata": {},
   "outputs": [],
   "source": [
    "class Commaseperatedoutput(BaseOutputParser):\n",
    "    def parse(self,text:str):\n",
    "        return text.strip().split(\",\")"
   ]
  },
  {
   "cell_type": "code",
   "execution_count": 10,
   "metadata": {},
   "outputs": [],
   "source": [
    "template=\"Your are a helpful assistant. When the use given any input , you should generate 5 words synonyms in a comma seperated list\"\n",
    "human_template=\"{text}\"\n",
    "chatprompt=ChatPromptTemplate.from_messages([\n",
    "    (\"system\",template),\n",
    "    (\"human\",human_template)])"
   ]
  },
  {
   "cell_type": "code",
   "execution_count": 16,
   "metadata": {},
   "outputs": [],
   "source": [
    "chain=chatprompt|chatllm|Commaseperatedoutput()"
   ]
  },
  {
   "cell_type": "code",
   "execution_count": 17,
   "metadata": {},
   "outputs": [
    {
     "data": {
      "text/plain": [
       "['Smart', ' Brilliant', ' Clever', ' Knowledgeable', ' Wise']"
      ]
     },
     "execution_count": 17,
     "metadata": {},
     "output_type": "execute_result"
    }
   ],
   "source": [
    "chain.invoke({\"text\":\"intelligent\"})"
   ]
  },
  {
   "cell_type": "markdown",
   "metadata": {},
   "source": [
    "# Using multiple inputs in prompt template"
   ]
  },
  {
   "cell_type": "code",
   "execution_count": 33,
   "metadata": {},
   "outputs": [
    {
     "data": {
      "text/plain": [
       "\"In an easy way translate the following sentence 'How are you' into hindi\""
      ]
     },
     "execution_count": 33,
     "metadata": {},
     "output_type": "execute_result"
    }
   ],
   "source": [
    "## Language Translation\n",
    "from langchain import PromptTemplate\n",
    "\n",
    "template='''In an easy way translate the following sentence '{sentence}' into {target_language}'''\n",
    "language_prompt = PromptTemplate(\n",
    "    input_variables=[\"sentence\",'target_language'],\n",
    "    template=template,\n",
    ")\n",
    "language_prompt.format(sentence=\"How are you\",target_language='hindi')"
   ]
  },
  {
   "cell_type": "code",
   "execution_count": 34,
   "metadata": {},
   "outputs": [
    {
     "data": {
      "text/plain": [
       "{'sentence': 'Hello How are you',\n",
       " 'target_language': 'hindi',\n",
       " 'text': 'नमस्ते, आप कैसे हैं?'}"
      ]
     },
     "execution_count": 34,
     "metadata": {},
     "output_type": "execute_result"
    }
   ],
   "source": [
    "chain3=LLMChain(llm=llm,prompt=language_prompt)\n",
    "chain3({'sentence': \"Hello How are you\", 'target_language':'hindi'})"
   ]
  },
  {
   "cell_type": "markdown",
   "metadata": {},
   "source": [
    "# Using Few shot template technique"
   ]
  },
  {
   "cell_type": "code",
   "execution_count": 15,
   "metadata": {},
   "outputs": [],
   "source": [
    "from langchain import PromptTemplate, FewShotPromptTemplate\n",
    "\n",
    "# First, create the list of few shot examples.\n",
    "examples = [\n",
    "    {\"word\": \"happy\", \"antonym\": \"sad\"},\n",
    "    {\"word\": \"tall\", \"antonym\": \"short\"},\n",
    "]\n",
    "\n",
    "# Next, we specify the template to format the examples we have provided.\n",
    "# We use the `PromptTemplate` class for this.\n",
    "example_formatter_template = \"\"\"Word: {word}\n",
    "Antonym: {antonym}\n",
    "\"\"\"\n",
    "\n",
    "example_prompt = PromptTemplate(\n",
    "    input_variables=[\"word\", \"antonym\"],\n",
    "    template=example_formatter_template,\n",
    ")"
   ]
  },
  {
   "cell_type": "code",
   "execution_count": 16,
   "metadata": {},
   "outputs": [],
   "source": [
    "# Finally, we create the `FewShotPromptTemplate` object.\n",
    "few_shot_prompt = FewShotPromptTemplate(\n",
    "    # These are the examples we want to insert into the prompt.\n",
    "    examples=examples,\n",
    "    # This is how we want to format the examples when we insert them into the prompt.\n",
    "    example_prompt=example_prompt,\n",
    "    # The prefix is some text that goes before the examples in the prompt.\n",
    "    # Usually, this consists of intructions.\n",
    "    prefix=\"Give the antonym of every input\\n\",\n",
    "    # The suffix is some text that goes after the examples in the prompt.\n",
    "    # Usually, this is where the user input will go\n",
    "    suffix=\"Word: {input}\\nAntonym: \",\n",
    "    # The input variables are the variables that the overall prompt expects.\n",
    "    input_variables=[\"input\"],\n",
    "    # The example_separator is the string we will use to join the prefix, examples, and suffix together with.\n",
    "    example_separator=\"\\n\",\n",
    ")"
   ]
  },
  {
   "cell_type": "code",
   "execution_count": 17,
   "metadata": {},
   "outputs": [
    {
     "name": "stdout",
     "output_type": "stream",
     "text": [
      "Give the antonym of every input\n",
      "\n",
      "Word: happy\n",
      "Antonym: sad\n",
      "\n",
      "Word: tall\n",
      "Antonym: short\n",
      "\n",
      "Word: big\n",
      "Antonym: \n"
     ]
    }
   ],
   "source": [
    "print(few_shot_prompt.format(input='big'))"
   ]
  },
  {
   "cell_type": "code",
   "execution_count": 19,
   "metadata": {},
   "outputs": [
    {
     "data": {
      "text/plain": [
       "{'input': 'big', 'text': ' small'}"
      ]
     },
     "execution_count": 19,
     "metadata": {},
     "output_type": "execute_result"
    }
   ],
   "source": [
    "chain=LLMChain(llm=llm,prompt=few_shot_prompt)\n",
    "chain({'input':\"big\"})"
   ]
  },
  {
   "attachments": {},
   "cell_type": "markdown",
   "metadata": {},
   "source": []
  }
 ],
 "metadata": {
  "kernelspec": {
   "display_name": "llm_venv",
   "language": "python",
   "name": "llm_venv"
  },
  "language_info": {
   "codemirror_mode": {
    "name": "ipython",
    "version": 3
   },
   "file_extension": ".py",
   "mimetype": "text/x-python",
   "name": "python",
   "nbconvert_exporter": "python",
   "pygments_lexer": "ipython3",
   "version": "3.10.12"
  }
 },
 "nbformat": 4,
 "nbformat_minor": 4
}
