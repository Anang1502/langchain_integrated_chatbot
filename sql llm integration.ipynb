{
 "cells": [
  {
   "cell_type": "code",
   "execution_count": 3,
   "id": "f6f5d87f-863b-418b-b527-9590f2632527",
   "metadata": {},
   "outputs": [],
   "source": [
    "! pip install --upgrade --quiet  langchain langchain-community langchain-openai"
   ]
  },
  {
   "cell_type": "code",
   "execution_count": 28,
   "id": "764b7404-5114-48da-aee7-b8de7f6f7205",
   "metadata": {},
   "outputs": [],
   "source": [
    "! pip install --quiet pandas"
   ]
  },
  {
   "cell_type": "code",
   "execution_count": 8,
   "id": "c19adba6-4d9f-4a60-822f-5b308ee65399",
   "metadata": {},
   "outputs": [],
   "source": [
    "import getpass\n",
    "import os\n",
    "from langchain_openai import AzureChatOpenAI"
   ]
  },
  {
   "cell_type": "code",
   "execution_count": 12,
   "id": "a50a7e12-3181-4624-9f08-0172b73fb077",
   "metadata": {},
   "outputs": [],
   "source": [
    "OPENAI_API_VERSION = \"\"\n",
    "AZURE_OPENAI_ENDPOINT = \"\"\n",
    "AZURE_OPENAI_API_KEY = \"\"\n",
    "\n",
    "os.environ[\"OPENAI_API_TYPE\"] = \"azure\"\n",
    "os.environ[\"OPENAI_API_VERSION\"] = OPENAI_API_VERSION\n",
    "os.environ[\"AZURE_OPENAI_ENDPOINT\"] = AZURE_OPENAI_ENDPOINT\n",
    "os.environ[\"AZURE_OPENAI_API_KEY\"] = AZURE_OPENAI_API_KEY\n",
    "\n",
    "model_response_generation = ''\n",
    "llm = AzureChatOpenAI(openai_api_version=\"\", azure_deployment=model_response_generation, )"
   ]
  },
  {
   "cell_type": "code",
   "execution_count": 10,
   "id": "45be1fc4-1312-40c8-9b53-89b813d1133a",
   "metadata": {},
   "outputs": [
    {
     "name": "stdout",
     "output_type": "stream",
     "text": [
      "sqlite\n",
      "['Album', 'Artist', 'Customer', 'Employee', 'Genre', 'Invoice', 'InvoiceLine', 'MediaType', 'Playlist', 'PlaylistTrack', 'Track']\n"
     ]
    },
    {
     "data": {
      "text/plain": [
       "\"[(1, 'AC/DC'), (2, 'Accept'), (3, 'Aerosmith'), (4, 'Alanis Morissette'), (5, 'Alice In Chains'), (6, 'Antônio Carlos Jobim'), (7, 'Apocalyptica'), (8, 'Audioslave'), (9, 'BackBeat'), (10, 'Billy Cobham')]\""
      ]
     },
     "execution_count": 10,
     "metadata": {},
     "output_type": "execute_result"
    }
   ],
   "source": [
    "from langchain_community.utilities import SQLDatabase\n",
    "\n",
    "db = SQLDatabase.from_uri(\"sqlite:///Chinook.db\")\n",
    "print(db.dialect)\n",
    "print(db.get_usable_table_names())\n",
    "db.run(\"SELECT * FROM Artist LIMIT 10;\")"
   ]
  },
  {
   "cell_type": "code",
   "execution_count": 68,
   "id": "e9e21af3-9f94-4540-80c0-1495f577fc19",
   "metadata": {},
   "outputs": [
    {
     "data": {
      "text/plain": [
       "'SELECT \"movie_title\", \"imdb_score\" FROM movies_details WHERE \"actor_1_name\" = \\'Leonardo DiCaprio\\' ORDER BY \"imdb_score\" DESC LIMIT 5'"
      ]
     },
     "execution_count": 68,
     "metadata": {},
     "output_type": "execute_result"
    }
   ],
   "source": [
    "from langchain.chains import create_sql_query_chain\n",
    "from langchain_openai import ChatOpenAI\n",
    "\n",
    "chain = create_sql_query_chain(llm, movies_db)\n",
    "response = chain.invoke({\"question\": \"Suggest some good movies from de caprio\"})\n",
    "response"
   ]
  },
  {
   "cell_type": "code",
   "execution_count": 69,
   "id": "f215d57b-a5bd-4eea-844c-14ffec2598bb",
   "metadata": {},
   "outputs": [
    {
     "data": {
      "text/plain": [
       "\"[('Inception\\\\xa0', 8.8), ('Django Unchained\\\\xa0', 8.5), ('The Departed\\\\xa0', 8.5), ('The Wolf of Wall Street\\\\xa0', 8.2), ('The Revenant\\\\xa0', 8.1)]\""
      ]
     },
     "execution_count": 69,
     "metadata": {},
     "output_type": "execute_result"
    }
   ],
   "source": [
    "db.run(response)"
   ]
  },
  {
   "cell_type": "code",
   "execution_count": 20,
   "id": "6c18d66e-fd30-4bf3-bb29-352538184715",
   "metadata": {},
   "outputs": [
    {
     "name": "stdout",
     "output_type": "stream",
     "text": [
      "You are a SQLite expert. Given an input question, first create a syntactically correct SQLite query to run, then look at the results of the query and return the answer to the input question.\n",
      "Unless the user specifies in the question a specific number of examples to obtain, query for at most 5 results using the LIMIT clause as per SQLite. You can order the results to return the most informative data in the database.\n",
      "Never query for all columns from a table. You must query only the columns that are needed to answer the question. Wrap each column name in double quotes (\") to denote them as delimited identifiers.\n",
      "Pay attention to use only the column names you can see in the tables below. Be careful to not query for columns that do not exist. Also, pay attention to which column is in which table.\n",
      "Pay attention to use date('now') function to get the current date, if the question involves \"today\".\n",
      "\n",
      "Use the following format:\n",
      "\n",
      "Question: Question here\n",
      "SQLQuery: SQL Query to run\n",
      "SQLResult: Result of the SQLQuery\n",
      "Answer: Final answer here\n",
      "\n",
      "Only use the following tables:\n",
      "\u001b[33;1m\u001b[1;3m{table_info}\u001b[0m\n",
      "\n",
      "Question: \u001b[33;1m\u001b[1;3m{input}\u001b[0m\n"
     ]
    }
   ],
   "source": [
    "chain.get_prompts()[0].pretty_print()"
   ]
  },
  {
   "cell_type": "code",
   "execution_count": 22,
   "id": "f58314d1-078d-42e7-998b-da327cc51607",
   "metadata": {},
   "outputs": [
    {
     "data": {
      "text/plain": [
       "'[(8,)]'"
      ]
     },
     "execution_count": 22,
     "metadata": {},
     "output_type": "execute_result"
    }
   ],
   "source": [
    "from langchain_community.tools.sql_database.tool import QuerySQLDataBaseTool\n",
    "\n",
    "execute_query = QuerySQLDataBaseTool(db=db)\n",
    "write_query = create_sql_query_chain(llm, db)\n",
    "chain = write_query | execute_query\n",
    "chain.invoke({\"question\": \"How many employees are there\"})"
   ]
  },
  {
   "cell_type": "code",
   "execution_count": 23,
   "id": "939408b0-b83b-470d-93f8-ba99a3dc8d06",
   "metadata": {},
   "outputs": [
    {
     "data": {
      "text/plain": [
       "'There are 8 employees.'"
      ]
     },
     "execution_count": 23,
     "metadata": {},
     "output_type": "execute_result"
    }
   ],
   "source": [
    "from operator import itemgetter\n",
    "\n",
    "from langchain_core.output_parsers import StrOutputParser\n",
    "from langchain_core.prompts import PromptTemplate\n",
    "from langchain_core.runnables import RunnablePassthrough\n",
    "\n",
    "answer_prompt = PromptTemplate.from_template(\n",
    "    \"\"\"Given the following user question, corresponding SQL query, and SQL result, answer the user question.\n",
    "\n",
    "Question: {question}\n",
    "SQL Query: {query}\n",
    "SQL Result: {result}\n",
    "Answer: \"\"\"\n",
    ")\n",
    "\n",
    "answer = answer_prompt | llm | StrOutputParser()\n",
    "chain = (\n",
    "    RunnablePassthrough.assign(query=write_query).assign(\n",
    "        result=itemgetter(\"query\") | execute_query\n",
    "    )\n",
    "    | answer\n",
    ")\n",
    "\n",
    "chain.invoke({\"question\": \"How many employees are there\"})"
   ]
  },
  {
   "cell_type": "code",
   "execution_count": 24,
   "id": "58756b56-44a4-4112-ac9c-5b53b95f9bdc",
   "metadata": {},
   "outputs": [],
   "source": [
    "from langchain_community.agent_toolkits import create_sql_agent\n",
    "\n",
    "agent_executor = create_sql_agent(llm, db=db, agent_type=\"openai-tools\", verbose=True)"
   ]
  },
  {
   "cell_type": "code",
   "execution_count": 25,
   "id": "ffcedf75-11ed-4ed6-abba-176cd51d2e39",
   "metadata": {
    "scrolled": true
   },
   "outputs": [
    {
     "name": "stdout",
     "output_type": "stream",
     "text": [
      "\n",
      "\n",
      "\u001b[1m> Entering new SQL Agent Executor chain...\u001b[0m\n",
      "\u001b[32;1m\u001b[1;3m\n",
      "Invoking: `sql_db_list_tables` with `{}`\n",
      "\n",
      "\n",
      "\u001b[0m\u001b[38;5;200m\u001b[1;3mAlbum, Artist, Customer, Employee, Genre, Invoice, InvoiceLine, MediaType, Playlist, PlaylistTrack, Track\u001b[0m\u001b[32;1m\u001b[1;3m\n",
      "Invoking: `sql_db_schema` with `{'table_names': 'Customer, Invoice'}`\n",
      "responded: The tables 'Customer' and 'Invoice' seem to be related to the query as they could contain information about sales and customers' countries. I'll query the schema of these tables.\n",
      "\n",
      "\u001b[0m\u001b[33;1m\u001b[1;3m\n",
      "CREATE TABLE \"Customer\" (\n",
      "\t\"CustomerId\" INTEGER NOT NULL, \n",
      "\t\"FirstName\" NVARCHAR(40) NOT NULL, \n",
      "\t\"LastName\" NVARCHAR(20) NOT NULL, \n",
      "\t\"Company\" NVARCHAR(80), \n",
      "\t\"Address\" NVARCHAR(70), \n",
      "\t\"City\" NVARCHAR(40), \n",
      "\t\"State\" NVARCHAR(40), \n",
      "\t\"Country\" NVARCHAR(40), \n",
      "\t\"PostalCode\" NVARCHAR(10), \n",
      "\t\"Phone\" NVARCHAR(24), \n",
      "\t\"Fax\" NVARCHAR(24), \n",
      "\t\"Email\" NVARCHAR(60) NOT NULL, \n",
      "\t\"SupportRepId\" INTEGER, \n",
      "\tPRIMARY KEY (\"CustomerId\"), \n",
      "\tFOREIGN KEY(\"SupportRepId\") REFERENCES \"Employee\" (\"EmployeeId\")\n",
      ")\n",
      "\n",
      "/*\n",
      "3 rows from Customer table:\n",
      "CustomerId\tFirstName\tLastName\tCompany\tAddress\tCity\tState\tCountry\tPostalCode\tPhone\tFax\tEmail\tSupportRepId\n",
      "1\tLuís\tGonçalves\tEmbraer - Empresa Brasileira de Aeronáutica S.A.\tAv. Brigadeiro Faria Lima, 2170\tSão José dos Campos\tSP\tBrazil\t12227-000\t+55 (12) 3923-5555\t+55 (12) 3923-5566\tluisg@embraer.com.br\t3\n",
      "2\tLeonie\tKöhler\tNone\tTheodor-Heuss-Straße 34\tStuttgart\tNone\tGermany\t70174\t+49 0711 2842222\tNone\tleonekohler@surfeu.de\t5\n",
      "3\tFrançois\tTremblay\tNone\t1498 rue Bélanger\tMontréal\tQC\tCanada\tH2G 1A7\t+1 (514) 721-4711\tNone\tftremblay@gmail.com\t3\n",
      "*/\n",
      "\n",
      "\n",
      "CREATE TABLE \"Invoice\" (\n",
      "\t\"InvoiceId\" INTEGER NOT NULL, \n",
      "\t\"CustomerId\" INTEGER NOT NULL, \n",
      "\t\"InvoiceDate\" DATETIME NOT NULL, \n",
      "\t\"BillingAddress\" NVARCHAR(70), \n",
      "\t\"BillingCity\" NVARCHAR(40), \n",
      "\t\"BillingState\" NVARCHAR(40), \n",
      "\t\"BillingCountry\" NVARCHAR(40), \n",
      "\t\"BillingPostalCode\" NVARCHAR(10), \n",
      "\t\"Total\" NUMERIC(10, 2) NOT NULL, \n",
      "\tPRIMARY KEY (\"InvoiceId\"), \n",
      "\tFOREIGN KEY(\"CustomerId\") REFERENCES \"Customer\" (\"CustomerId\")\n",
      ")\n",
      "\n",
      "/*\n",
      "3 rows from Invoice table:\n",
      "InvoiceId\tCustomerId\tInvoiceDate\tBillingAddress\tBillingCity\tBillingState\tBillingCountry\tBillingPostalCode\tTotal\n",
      "1\t2\t2021-01-01 00:00:00\tTheodor-Heuss-Straße 34\tStuttgart\tNone\tGermany\t70174\t1.98\n",
      "2\t4\t2021-01-02 00:00:00\tUllevålsveien 14\tOslo\tNone\tNorway\t0171\t3.96\n",
      "3\t8\t2021-01-03 00:00:00\tGrétrystraat 63\tBrussels\tNone\tBelgium\t1000\t5.94\n",
      "*/\u001b[0m\u001b[32;1m\u001b[1;3m\n",
      "Invoking: `sql_db_query_checker` with `{'query': 'SELECT BillingCountry, SUM(Total) as TotalSales FROM Invoice GROUP BY BillingCountry ORDER BY TotalSales DESC LIMIT 10'}`\n",
      "responded: The 'Invoice' table has a 'Total' field which seems to represent the total amount of a sale. The 'Customer' table has a 'Country' field representing the country of the customer. However, the 'Invoice' table also has a 'BillingCountry' field. To ensure that we are using the correct data, let's use the 'BillingCountry' field from the 'Invoice' table as it directly relates to the sales data. \n",
      "\n",
      "I am going to write a SQL query to sum the 'Total' sales for each country and then order the results in descending order to find the country with the highest sales. I will also limit the results to 10 as per the specifications. \n",
      "\n",
      "Let's write and check the query.\n",
      "\n",
      "\u001b[0m\u001b[36;1m\u001b[1;3mSELECT BillingCountry, SUM(Total) as TotalSales FROM Invoice GROUP BY BillingCountry ORDER BY TotalSales DESC LIMIT 10\u001b[0m\u001b[32;1m\u001b[1;3m\n",
      "Invoking: `sql_db_query` with `{'query': 'SELECT BillingCountry, SUM(Total) as TotalSales FROM Invoice GROUP BY BillingCountry ORDER BY TotalSales DESC LIMIT 10'}`\n",
      "\n",
      "\n",
      "\u001b[0m\u001b[36;1m\u001b[1;3m[('USA', 523.0600000000003), ('Canada', 303.9599999999999), ('France', 195.09999999999994), ('Brazil', 190.09999999999997), ('Germany', 156.48), ('United Kingdom', 112.85999999999999), ('Czech Republic', 90.24000000000001), ('Portugal', 77.23999999999998), ('India', 75.25999999999999), ('Chile', 46.62)]\u001b[0m\u001b[32;1m\u001b[1;3mThe customers from the USA spent the most with a total sales amount of $523.06.\u001b[0m\n",
      "\n",
      "\u001b[1m> Finished chain.\u001b[0m\n"
     ]
    },
    {
     "data": {
      "text/plain": [
       "{'input': \"List the total sales per country. Which country's customers spent the most?\",\n",
       " 'output': 'The customers from the USA spent the most with a total sales amount of $523.06.'}"
      ]
     },
     "execution_count": 25,
     "metadata": {},
     "output_type": "execute_result"
    }
   ],
   "source": [
    "agent_executor.invoke(\n",
    "    {\n",
    "        \"input\": \"List the total sales per country. Which country's customers spent the most?\"\n",
    "    }\n",
    ")"
   ]
  },
  {
   "cell_type": "markdown",
   "id": "c9f7dfbf-1db5-4775-a961-3b1c8a4cd8c2",
   "metadata": {},
   "source": [
    "# Movies Database "
   ]
  },
  {
   "cell_type": "code",
   "execution_count": 44,
   "id": "c34b94ce-0e46-466a-9e6c-87114b022a04",
   "metadata": {},
   "outputs": [],
   "source": [
    "import pandas as pd\n",
    "import sqlite3"
   ]
  },
  {
   "cell_type": "code",
   "execution_count": 30,
   "id": "5e1b70d4-4a2d-4b1b-9801-2db1f9e62113",
   "metadata": {},
   "outputs": [],
   "source": [
    "movies_df = pd.read_csv(\"movie_metadata.csv\")"
   ]
  },
  {
   "cell_type": "code",
   "execution_count": 43,
   "id": "a0cae0ba-5516-455a-8c3c-ffb61e5313f1",
   "metadata": {},
   "outputs": [],
   "source": [
    "# clean up the column names \n",
    "\n",
    "movies_df.columns = movies_df.columns.str.strip()"
   ]
  },
  {
   "cell_type": "code",
   "execution_count": 45,
   "id": "c619790d-4f5c-483f-ae4b-c07a0f9d1884",
   "metadata": {},
   "outputs": [],
   "source": [
    "conn = sqlite3.connect('movies.db')"
   ]
  },
  {
   "cell_type": "code",
   "execution_count": 46,
   "id": "6b0d0e2a-02b7-4c1f-8673-527902ad3f92",
   "metadata": {},
   "outputs": [],
   "source": [
    "movies_df.to_sql(\"movies_details\", conn, if_exists=\"replace\")\n",
    "conn.close()"
   ]
  },
  {
   "cell_type": "code",
   "execution_count": 70,
   "id": "06fa1314-9a87-4494-a056-41d50d374ff6",
   "metadata": {
    "scrolled": true
   },
   "outputs": [
    {
     "name": "stdout",
     "output_type": "stream",
     "text": [
      "sqlite\n",
      "['movies_details']\n"
     ]
    },
    {
     "data": {
      "text/plain": [
       "'[(0, \\'Color\\', \\'James Cameron\\', 723.0, 178.0, 0.0, 855.0, \\'Joel David Moore\\', 1000.0, 760505847.0, \\'Action|Adventure|Fantasy|Sci-Fi\\', \\'CCH Pounder\\', \\'Avatar\\\\xa0\\', 886204, 4834, \\'Wes Studi\\', 0.0, \\'avatar|future|marine|native|paraplegic\\', \\'http://www.imdb.com/title/tt0499549/?ref_=fn_tt_tt_1\\', 3054.0, \\'English\\', \\'USA\\', \\'PG-13\\', 237000000.0, 2009.0, 936.0, 7.9, 1.78, 33000), (1, \\'Color\\', \\'Gore Verbinski\\', 302.0, 169.0, 563.0, 1000.0, \\'Orlando Bloom\\', 40000.0, 309404152.0, \\'Action|Adventure|Fantasy\\', \\'Johnny Depp\\', \"Pirates of the Caribbean: At World\\'s End\\\\xa0\", 471220, 48350, \\'Jack Davenport\\', 0.0, \\'goddess|marriage ceremony|marriage proposal|pirate|singapore\\', \\'http://www.imdb.com/title/tt0449088/?ref_=fn_tt_tt_1\\', 1238.0, \\'English\\', \\'USA\\', \\'PG-13\\', 300000000.0, 2007.0, 5000.0, 7.1, 2.35, 0), (2, \\'Color\\', \\'Sam Mendes\\', 602.0, 148.0, 0.0, 161.0, \\'Rory Kinnear\\', 11000.0, 200074175.0, \\'Action|Adventure|Thriller\\', \\'Christoph Waltz\\', \\'Spectre\\\\xa0\\', 275868, 11700, \\'Stephanie Sigman\\', 1.0, \\'bomb|espionage|sequel|spy|terrorist\\', \\'http://www.imdb.com/title/tt2379713/?ref_=fn_tt_tt_1\\', 994.0, \\'English\\', \\'UK\\', \\'PG-13\\', 245000000.0, 2015.0, 393.0, 6.8, 2.35, 85000), (3, \\'Color\\', \\'Christopher Nolan\\', 813.0, 164.0, 22000.0, 23000.0, \\'Christian Bale\\', 27000.0, 448130642.0, \\'Action|Thriller\\', \\'Tom Hardy\\', \\'The Dark Knight Rises\\\\xa0\\', 1144337, 106759, \\'Joseph Gordon-Levitt\\', 0.0, \\'deception|imprisonment|lawlessness|police officer|terrorist plot\\', \\'http://www.imdb.com/title/tt1345836/?ref_=fn_tt_tt_1\\', 2701.0, \\'English\\', \\'USA\\', \\'PG-13\\', 250000000.0, 2012.0, 23000.0, 8.5, 2.35, 164000), (4, None, \\'Doug Walker\\', None, None, 131.0, None, \\'Rob Walker\\', 131.0, None, \\'Documentary\\', \\'Doug Walker\\', \\'Star Wars: Episode VII - The Force Awakens\\\\xa0            \\', 8, 143, None, 0.0, None, \\'http://www.imdb.com/title/tt5289954/?ref_=fn_tt_tt_1\\', None, None, None, None, None, None, 12.0, 7.1, None, 0), (5, \\'Color\\', \\'Andrew Stanton\\', 462.0, 132.0, 475.0, 530.0, \\'Samantha Morton\\', 640.0, 73058679.0, \\'Action|Adventure|Sci-Fi\\', \\'Daryl Sabara\\', \\'John Carter\\\\xa0\\', 212204, 1873, \\'Polly Walker\\', 1.0, \\'alien|american civil war|male nipple|mars|princess\\', \\'http://www.imdb.com/title/tt0401729/?ref_=fn_tt_tt_1\\', 738.0, \\'English\\', \\'USA\\', \\'PG-13\\', 263700000.0, 2012.0, 632.0, 6.6, 2.35, 24000), (6, \\'Color\\', \\'Sam Raimi\\', 392.0, 156.0, 0.0, 4000.0, \\'James Franco\\', 24000.0, 336530303.0, \\'Action|Adventure|Romance\\', \\'J.K. Simmons\\', \\'Spider-Man 3\\\\xa0\\', 383056, 46055, \\'Kirsten Dunst\\', 0.0, \\'sandman|spider man|symbiote|venom|villain\\', \\'http://www.imdb.com/title/tt0413300/?ref_=fn_tt_tt_1\\', 1902.0, \\'English\\', \\'USA\\', \\'PG-13\\', 258000000.0, 2007.0, 11000.0, 6.2, 2.35, 0), (7, \\'Color\\', \\'Nathan Greno\\', 324.0, 100.0, 15.0, 284.0, \\'Donna Murphy\\', 799.0, 200807262.0, \\'Adventure|Animation|Comedy|Family|Fantasy|Musical|Romance\\', \\'Brad Garrett\\', \\'Tangled\\\\xa0\\', 294810, 2036, \\'M.C. Gainey\\', 1.0, \\'17th century|based on fairy tale|disney|flower|tower\\', \\'http://www.imdb.com/title/tt0398286/?ref_=fn_tt_tt_1\\', 387.0, \\'English\\', \\'USA\\', \\'PG\\', 260000000.0, 2010.0, 553.0, 7.8, 1.85, 29000), (8, \\'Color\\', \\'Joss Whedon\\', 635.0, 141.0, 0.0, 19000.0, \\'Robert Downey Jr.\\', 26000.0, 458991599.0, \\'Action|Adventure|Sci-Fi\\', \\'Chris Hemsworth\\', \\'Avengers: Age of Ultron\\\\xa0\\', 462669, 92000, \\'Scarlett Johansson\\', 4.0, \\'artificial intelligence|based on comic book|captain america|marvel cinematic universe|superhero\\', \\'http://www.imdb.com/title/tt2395427/?ref_=fn_tt_tt_1\\', 1117.0, \\'English\\', \\'USA\\', \\'PG-13\\', 250000000.0, 2015.0, 21000.0, 7.5, 2.35, 118000), (9, \\'Color\\', \\'David Yates\\', 375.0, 153.0, 282.0, 10000.0, \\'Daniel Radcliffe\\', 25000.0, 301956980.0, \\'Adventure|Family|Fantasy|Mystery\\', \\'Alan Rickman\\', \\'Harry Potter and the Half-Blood Prince\\\\xa0\\', 321795, 58753, \\'Rupert Grint\\', 3.0, \\'blood|book|love|potion|professor\\', \\'http://www.imdb.com/title/tt0417741/?ref_=fn_tt_tt_1\\', 973.0, \\'English\\', \\'UK\\', \\'PG\\', 250000000.0, 2009.0, 11000.0, 7.5, 2.35, 10000)]'"
      ]
     },
     "execution_count": 70,
     "metadata": {},
     "output_type": "execute_result"
    }
   ],
   "source": [
    "movies_db = SQLDatabase.from_uri(\"sqlite:///movies.db\")\n",
    "print(movies_db.dialect)\n",
    "print(movies_db.get_usable_table_names())\n",
    "movies_db.run(\"SELECT * FROM movies_details LIMIT 10;\")"
   ]
  },
  {
   "cell_type": "code",
   "execution_count": 91,
   "id": "dc691786-e4c2-41dc-a395-ea73b663d1b2",
   "metadata": {},
   "outputs": [
    {
     "data": {
      "text/plain": [
       "'SELECT \"movie_title\", \"genres\", \"director_name\" FROM movies_details WHERE \"actor_1_name\" LIKE \\'%de caprio%\\' AND \"genres\" LIKE \\'%Horror%\\' LIMIT 5'"
      ]
     },
     "execution_count": 91,
     "metadata": {},
     "output_type": "execute_result"
    }
   ],
   "source": [
    "from langchain.chains import create_sql_query_chain\n",
    "from langchain_openai import ChatOpenAI\n",
    "\n",
    "chain = create_sql_query_chain(llm, movies_db)\n",
    "response = chain.invoke({\"question\": \"de caprio horror movies\"})\n",
    "response"
   ]
  },
  {
   "cell_type": "code",
   "execution_count": 92,
   "id": "47b359fc-5907-4157-a517-b48840228360",
   "metadata": {},
   "outputs": [
    {
     "data": {
      "text/plain": [
       "''"
      ]
     },
     "execution_count": 92,
     "metadata": {},
     "output_type": "execute_result"
    }
   ],
   "source": [
    "movies_db.run(response)"
   ]
  },
  {
   "cell_type": "code",
   "execution_count": null,
   "id": "40c2ea21-20d8-405a-a73f-a05d6e0c6799",
   "metadata": {},
   "outputs": [],
   "source": []
  }
 ],
 "metadata": {
  "kernelspec": {
   "display_name": "llm_venv",
   "language": "python",
   "name": "llm_venv"
  },
  "language_info": {
   "codemirror_mode": {
    "name": "ipython",
    "version": 3
   },
   "file_extension": ".py",
   "mimetype": "text/x-python",
   "name": "python",
   "nbconvert_exporter": "python",
   "pygments_lexer": "ipython3",
   "version": "3.10.12"
  }
 },
 "nbformat": 4,
 "nbformat_minor": 5
}
